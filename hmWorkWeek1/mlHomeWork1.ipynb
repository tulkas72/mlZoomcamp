{
 "cells": [
  {
   "cell_type": "code",
   "execution_count": 22,
   "metadata": {},
   "outputs": [],
   "source": [
    "import numpy as np\n",
    "import pandas as pd\n",
    "\n",
    "df = pd.read_csv(\"data.csv\")"
   ]
  },
  {
   "cell_type": "code",
   "execution_count": 23,
   "metadata": {},
   "outputs": [
    {
     "name": "stdout",
     "output_type": "stream",
     "text": [
      "1.21.5\n"
     ]
    }
   ],
   "source": [
    "#Q1\n",
    "print(np.__version__)"
   ]
  },
  {
   "cell_type": "code",
   "execution_count": 24,
   "metadata": {},
   "outputs": [
    {
     "name": "stdout",
     "output_type": "stream",
     "text": [
      "11914\n",
      "11914\n"
     ]
    }
   ],
   "source": [
    "#Q2\n",
    "print(df.shape[0])\n",
    "#or\n",
    "print(len(df.index))"
   ]
  },
  {
   "cell_type": "code",
   "execution_count": 25,
   "metadata": {},
   "outputs": [
    {
     "name": "stdout",
     "output_type": "stream",
     "text": [
      "Chevrolet     1123\n",
      "Ford           881\n",
      "Volkswagen     809\n",
      "Name: Make, dtype: int64\n"
     ]
    }
   ],
   "source": [
    "#Q3\n",
    "print(df['Make'].value_counts().head(3))"
   ]
  },
  {
   "cell_type": "code",
   "execution_count": 26,
   "metadata": {},
   "outputs": [
    {
     "name": "stdout",
     "output_type": "stream",
     "text": [
      "34\n"
     ]
    }
   ],
   "source": [
    "#Q4\n",
    "print(len(df.loc[df['Make'] == \"Audi\"][\"Model\"].value_counts()))"
   ]
  },
  {
   "cell_type": "code",
   "execution_count": 27,
   "metadata": {},
   "outputs": [
    {
     "data": {
      "text/plain": [
       "5"
      ]
     },
     "execution_count": 27,
     "metadata": {},
     "output_type": "execute_result"
    }
   ],
   "source": [
    "#Q5\n",
    "df.isnull().any().sum()"
   ]
  },
  {
   "cell_type": "code",
   "execution_count": 28,
   "metadata": {},
   "outputs": [
    {
     "name": "stdout",
     "output_type": "stream",
     "text": [
      "Median before changes: 6.0\n",
      "Most frequente value(mode): 0    4.0\n",
      "dtype: float64\n",
      "Median after changes: 6.0\n"
     ]
    }
   ],
   "source": [
    "#Q6.\n",
    "#median\n",
    "print(f\"Median before changes: {df['Engine Cylinders'].median()}\")\n",
    "#most frequent\n",
    "print(f\"Most frequente value(mode): {df['Engine Cylinders'].mode()}\")\n",
    "result = df['Engine Cylinders'].fillna(df['Engine Cylinders'].mode().iloc[0])\n",
    "print(f\"Median after changes: {result.median()}\")"
   ]
  },
  {
   "cell_type": "code",
   "execution_count": 29,
   "metadata": {},
   "outputs": [
    {
     "name": "stdout",
     "output_type": "stream",
     "text": [
      "4.594944810094551\n"
     ]
    }
   ],
   "source": [
    "#Q7\n",
    "lotus = df[['Engine HP', 'Engine Cylinders']][df['Make'] == \"Lotus\"]\n",
    "lotus = lotus.drop_duplicates()\n",
    "X = lotus.to_numpy()\n",
    "#or X=lotus.__array__()\n",
    "XTX = X.T @ X\n",
    "XTXI = np.linalg.inv(XTX)\n",
    "y = np.array([1100, 800, 750, 850, 1300, 1000, 1000, 1300, 800])\n",
    "\n",
    "res = XTXI @ X.T @ y\n",
    "\n",
    "print(res[0])"
   ]
  }
 ],
 "metadata": {
  "kernelspec": {
   "display_name": "Python 3.10.4 64-bit",
   "language": "python",
   "name": "python3"
  },
  "language_info": {
   "name": "python",
   "version": "3.10.4"
  },
  "orig_nbformat": 4,
  "vscode": {
   "interpreter": {
    "hash": "e7370f93d1d0cde622a1f8e1c04877d8463912d04d973331ad4851f04de6915a"
   }
  }
 },
 "nbformat": 4,
 "nbformat_minor": 2
}
